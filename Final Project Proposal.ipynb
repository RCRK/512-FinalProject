{
 "cells": [
  {
   "cell_type": "markdown",
   "metadata": {},
   "source": [
    "## Project Proposal : Influenza Like Illness Activity over the years"
   ]
  },
  {
   "cell_type": "markdown",
   "metadata": {},
   "source": [
    "#### Problem Statement:\n",
    "Flu or Influenza is a common illness during fall and winter. I am curious to see if we are seeing an increase in Influenza cases in the past 20 years (this will be dependent on how far back I can collect the data). The motivation for this analysis is that, every year we do hear all the advertiserment about getting flu vaccines. I am not sure if 20 years ago we had flu vaccines or not but I would like to do research to understand if we see any decrease. I am not specifically looking at data set of where there was data that the user got a vaccine and had or had not had infleunce (treatment vs control effect). I am hoping to learn if over the years we have seen a decrease in influenza across age groups.\n",
    "\n",
    "\n",
    "#### Data Used:\n",
    "I will be using data from Harvard dataverse data https://dataverse.harvard.edu/dataset.xhtml?persistentId=doi:10.7910/DVN/ZJZM4F; specifically the file called ILINet.csv. \n",
    "\n",
    "This specific data set also contains correlating with search trends but I plan to only use the CDC influenza like Illness file. I will also agument this data with CDC's weekly inflenza numbers till last december. CDC also publishes latest data at this site https://gis.cdc.gov/grasp/fluview/fluportaldashboard.html. It is an extremely well documented and analyzed data set, i plan to use the data on this site as well to suppliment the analysis. \n",
    "\n",
    "If I want to look at the trends of Influenza over a period of time then I would need the count of Inflenza incidents over the period. This data set contains by age group the Influenza like illness reported every week. \n",
    "\n",
    "#### License:\n",
    "The data on Harvard website is shared under CC0- Public Domain and the data on CDC website is also mentioned as public domain.\n",
    "\n",
    "Since most of the data is aggregate data and not user specific information, I don't see any Ethical concerns with the data. \n",
    "\n",
    "#### Unknowns and dependencies:\n",
    "This area has lot of data and probably it is easier to get lost in this data. I also would like to see if I can do correlations with Influenza vaccine consumption if that data is available. "
   ]
  },
  {
   "cell_type": "markdown",
   "metadata": {},
   "source": []
  }
 ],
 "metadata": {
  "kernelspec": {
   "display_name": "Python 3",
   "language": "python",
   "name": "python3"
  },
  "language_info": {
   "codemirror_mode": {
    "name": "ipython",
    "version": 3
   },
   "file_extension": ".py",
   "mimetype": "text/x-python",
   "name": "python",
   "nbconvert_exporter": "python",
   "pygments_lexer": "ipython3",
   "version": "3.7.4"
  }
 },
 "nbformat": 4,
 "nbformat_minor": 2
}
